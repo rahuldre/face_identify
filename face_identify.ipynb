{
 "cells": [
  {
   "cell_type": "code",
   "execution_count": 1,
   "metadata": {},
   "outputs": [],
   "source": [
    "import face_recognition\n",
    "from PIL import Image, ImageDraw"
   ]
  },
  {
   "cell_type": "code",
   "execution_count": 3,
   "metadata": {},
   "outputs": [
    {
     "name": "stderr",
     "output_type": "stream",
     "text": [
      "/Users/rahulraj/opt/anaconda3/envs/condaenv/lib/python3.7/site-packages/PIL/Image.py:989: UserWarning: Palette images with Transparency expressed in bytes should be converted to RGBA images\n",
      "  \"Palette images with Transparency expressed in bytes should be \"\n"
     ]
    }
   ],
   "source": [
    "image_of_bill = face_recognition.load_image_file('./img/known/Bill gates.jpg')\n",
    "bill_face_encoding = face_recognition.face_encodings(image_of_bill)[0]\n",
    "image_of_steve = face_recognition.load_image_file('./img/known/Steve jobs.jpg')\n",
    "steve_face_encoding = face_recognition.face_encodings(image_of_steve)[0]\n",
    "\n",
    "image_of_elon = face_recognition.load_image_file('./img/known/Elon Musk.jpg')\n",
    "elon_face_encoding = face_recognition.face_encodings(image_of_elon)[0]\n"
   ]
  },
  {
   "cell_type": "code",
   "execution_count": 4,
   "metadata": {},
   "outputs": [],
   "source": [
    "known_face_encodings = [\n",
    "  bill_face_encoding,\n",
    "  steve_face_encoding,\n",
    "  elon_face_encoding\n",
    "]\n",
    "\n",
    "known_face_names = [\n",
    "  \"Bill Gates\",\n",
    "  \"Steve Jobs\",\n",
    "  \"Elon Musk\"\n",
    "]\n",
    "\n",
    "test_image = face_recognition.load_image_file('./img/groups/team1.jpg')\n",
    "\n",
    "face_locations = face_recognition.face_locations(test_image)\n",
    "face_encodings = face_recognition.face_encodings(test_image, face_locations)\n",
    "\n",
    "pil_image = Image.fromarray(test_image)\n",
    "\n",
    "draw = ImageDraw.Draw(pil_image)\n",
    "\n",
    "for(top, right, bottom, left), face_encoding in zip(face_locations, face_encodings):\n",
    "  matches = face_recognition.compare_faces(known_face_encodings, face_encoding)\n",
    "\n",
    "  name = \"Unknown Person\"\n",
    "\n",
    "  if True in matches:\n",
    "    first_match_index = matches.index(True)\n",
    "    name = known_face_names[first_match_index]\n",
    "  \n",
    "\n",
    "  draw.rectangle(((left, top), (right, bottom)), outline=(255,255,0))\n",
    "\n",
    "  text_width, text_height = draw.textsize(name)\n",
    "  draw.rectangle(((left,bottom - text_height - 10), (right, bottom)), fill=(255,255,0), outline=(255,255,0))\n",
    "  draw.text((left + 6, bottom - text_height - 5), name, fill=(0,0,0))\n",
    "\n",
    "del draw\n",
    "\n",
    "pil_image.show()\n",
    "\n",
    "#pil_image.save('identify.jpg')"
   ]
  },
  {
   "cell_type": "code",
   "execution_count": null,
   "metadata": {},
   "outputs": [],
   "source": []
  }
 ],
 "metadata": {
  "kernelspec": {
   "display_name": "Python 3",
   "language": "python",
   "name": "python3"
  },
  "language_info": {
   "codemirror_mode": {
    "name": "ipython",
    "version": 3
   },
   "file_extension": ".py",
   "mimetype": "text/x-python",
   "name": "python",
   "nbconvert_exporter": "python",
   "pygments_lexer": "ipython3",
   "version": "3.7.5"
  }
 },
 "nbformat": 4,
 "nbformat_minor": 2
}
